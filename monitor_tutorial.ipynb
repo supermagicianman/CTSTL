{
 "cells": [
  {
   "cell_type": "code",
   "execution_count": 8,
   "id": "cf026f10-eeb4-4f63-b536-9c3faf9f79cc",
   "metadata": {},
   "outputs": [
    {
     "name": "stdout",
     "output_type": "stream",
     "text": [
      "{'x': [2, -1, 7, 10, -5, 15, 8, -2]}\n",
      "t= 0, prefix= 8  →  RoSI = [ 7.0,  7.0]\n",
      "t= 0, prefix= 7  →  RoSI = [ 7.0,  7.0]\n",
      "t= 0, prefix= 6  →  RoSI = [-5.0,  7.0]\n",
      "t= 0, prefix= 5  →  RoSI = [-inf,  7.0]\n"
     ]
    }
   ],
   "source": [
    "from stl_rsi_monitor import *\n",
    "\n",
    "# define input signal e.g., {\"x\": [5,10,12,-3,4,-2], \"y\":[-3,9,4,10,-3,5], ...}\n",
    "signals = {'x': [2, -1, 7, 10, -5, 15, 8, -2]}\n",
    "print(signals)\n",
    "\n",
    "# define CTSTL formula\n",
    "# Atomic proposition: AP(signal_name:str, op:str, c:int))\n",
    "# Negation: Not(phi:Node)\n",
    "# And: And(phi1:Node, phi2:Node, ...)\n",
    "# Or: Or(phi1:Node, phi2:Node, ...)\n",
    "# Always: G(a:int, b:int, phi:Node)\n",
    "# Eventually: F(a:int, b:int, phi:Node)\n",
    "# Until: U(a:int, b:int, phi:Node, phi2:Node)\n",
    "\n",
    "# G_[0,2] C^3_[1,5] x>0\n",
    "formula = G(0,2,\n",
    "           C(1,5,3,\n",
    "            AP(\"x\",\">\",0)))\n",
    "\n",
    "\n",
    "# calculate rosi at t=0, t should be less than signal length\n",
    "t=0  \n",
    "\n",
    "# known is the length of the signal prefix which are already known, known should be less than signal length\n",
    "known = len(signals['x']) \n",
    "\n",
    "# rosi = monitor_rsi(formula:Node, signals, t, known)\n",
    "lo, hi = monitor_rsi(formula, signals, t=t, known=known)\n",
    "print(f\"t={t:2d}, prefix={known:2d}  →  RoSI = [{lo: .1f}, {hi: .1f}]\")\n",
    "\n",
    "# assume partial signal is known\n",
    "lo, hi = monitor_rsi(formula, signals, t=t, known=known-1)\n",
    "print(f\"t={t:2d}, prefix={known-1:2d}  →  RoSI = [{lo: .1f}, {hi: .1f}]\")\n",
    "\n",
    "lo, hi = monitor_rsi(formula, signals, t=t, known=known-2)\n",
    "print(f\"t={t:2d}, prefix={known-2:2d}  →  RoSI = [{lo: .1f}, {hi: .1f}]\")\n",
    "\n",
    "lo, hi = monitor_rsi(formula, signals, t=t, known=known-3)\n",
    "print(f\"t={t:2d}, prefix={known-3:2d}  →  RoSI = [{lo: .1f}, {hi: .1f}]\")"
   ]
  }
 ],
 "metadata": {
  "kernelspec": {
   "display_name": "Python 3 (ipykernel)",
   "language": "python",
   "name": "python3"
  },
  "language_info": {
   "codemirror_mode": {
    "name": "ipython",
    "version": 3
   },
   "file_extension": ".py",
   "mimetype": "text/x-python",
   "name": "python",
   "nbconvert_exporter": "python",
   "pygments_lexer": "ipython3",
   "version": "3.11.5"
  }
 },
 "nbformat": 4,
 "nbformat_minor": 5
}
